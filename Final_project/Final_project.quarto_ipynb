{
  "cells": [
    {
      "cell_type": "markdown",
      "metadata": {},
      "source": [
        "---\n",
        "\n",
        "title: \"DAP II:Final Project\"\n",
        "author: \"Genevieve Madigan, Summer Negahdar, Jenny Zhong\"\n",
        "date: \"Fall 2024\"\n",
        "format: \n",
        "  html:\n",
        "    default-code-block-options:\n",
        "      eval: true\n",
        "      echo: false\n",
        "\n",
        "---\n",
        "\n",
        "# Workflow and team members\n",
        "Genevieve Madigan: Madigan989\n",
        "-responsibility: write up and data visualization\n",
        "Summer Negahdar: Summer99D\n",
        "-responsibility: creation of shiny app and data visualization\n",
        "Jenny Zhong: datapolicypython\n",
        "-responsibility: data cleaning and preparation\n",
        "\n",
        "\n",
        "## Introduction and prior articles\n",
        "\n",
        "# Research Question\n",
        "Our project investigates the impact of temperature on crime rates in Chicago, focusing on both violent and non-violent crimes. Specifically, our research question is: How does weather affect the occurrence and types of crimes within specific ZIP codes in Chicago?\n",
        "Inspired by a study published in the Journal of Criminal Justice (2015–2021) analyzing the temperature-crime relationship across multiple cities, we extended this work to a different time frame (2010–2015). This allowed us to test the study's conclusions during a period of varying political leadership, economic conditions, and macro trends. Understanding these dynamics can inform public safety strategies and resource allocation in response to climate patterns.\n",
        "Prior research, including the temperature-aggression hypothesis (Kahn, Deschenes, and Greenstone, 2009) and routine activity theory (Gottfredson and Hirschi, 1990), shows that environmental factors significantly affect criminal activity. These frameworks suggest higher temperatures may increase aggression, while weather influences daily activities, affecting crime opportunities. \n",
        "\n",
        "# Methodology\n",
        "To conduct our analysis, we utilized two primary datasets. The crime data was retrieved from the Chicago Data Portal, spanning the years 2004 to 2015. Due to the large size of this dataset, we narrowed our scope to focus on the period from 2010 to 2015 to make the analysis more computationally manageable. Weather data was acquired from the National Oceanic and Atmospheric Administration’s (NOAA) daily summaries, providing average, minimum, and maximum temperatures for the city of Chicago.\n",
        "To analyze the spatial relationship between crime and weather data, we mapped latitude and longitude coordinates to ZIP Codes using ZIP Code Tabulation Area (ZCTA) shapefiles from the U.S. Census Bureau’s TIGER/Line database. The data preparation process involved several steps. First, we loaded the ZCTA shapefiles into Python as GeoDataFrames using the geopandas library and reprojected them to the EPSG:4326 coordinate system to ensure compatibility with the datasets.\n",
        "Next, latitude and longitude values from the crime and weather datasets were converted into shapely.geometry.Point objects to create geospatial geometries. To address precision issues near ZCTA boundaries, small buffers were applied to these points, which slightly expanded their spatial coverage. This step improved the accuracy of subsequent spatial joins by reducing mismatches caused by minor spatial discrepancies.\n",
        "Finally, a spatial join was performed using the gpd.sjoin() function to map each point to its corresponding ZCTA polygon. These ZCTAs were then translated into ZIP Codes, allowing us to align the crime and weather data spatially for analysis. This process ensured that each data point was correctly associated with its geographical context, enabling a robust examination of the relationship between temperature and crime across Chicago.\n",
        "\n",
        "# Challenges\n",
        "The crime dataset initially posed significant challenges due to its size, totaling approximately 30GB. This required substantial computational resources for processing and analysis. To address this, we reduced the analysis time frame to 2010–2015, which decreased the dataset size to 13GB. While this adjustment made the dataset more manageable, it still presented difficulties in terms of sharing and processing efficiently. Additionally, to visualize the data and build a functional Shiny app, we had to sample only 1% of the dataset to ensure the app could handle the data volume without performance issues.\n",
        "Geospatial analysis introduced further complexities. Mapping latitude and longitude coordinates to ZIP Codes required intensive computations, particularly when working with large datasets. Loading geographic centroids and resolving mismatches during spatial joins added delays to the workflow, highlighting the challenges of working with spatial data at this scale.\n",
        "Another issue we encountered was standardizing date formats across the crime and weather datasets. These inconsistencies necessitated additional preprocessing to align timeframes accurately, ensuring that the data could be integrated seamlessly for analysis. This step was critical to maintaining the temporal consistency required for our study.\n",
        "\n",
        "## Methodology with codes \n",
        "# Crime data: Merging crime data together and merging crime data with ZIP Code\n",
        "1. Loading data together"
      ],
      "id": "b7c383a3"
    },
    {
      "cell_type": "code",
      "metadata": {},
      "source": [
        "import pandas as pd\n",
        "import geopandas as gpd\n",
        "import shapely\n",
        "import pandas as pd\n",
        "from shapely.geometry import Point\n",
        "import matplotlib.pyplot as plt\n",
        "import altair as alt\n",
        "import numpy as np\n",
        "import shiny"
      ],
      "id": "d278d8fd",
      "execution_count": null,
      "outputs": []
    },
    {
      "cell_type": "markdown",
      "metadata": {},
      "source": [
        "As mentioned above, after the presentation, we decided that we would shorten our datasets to 2010 - 2015 so it would be easier to load into our laptops. Subsequently, the code we have accommodates this change below. \n",
        "\n",
        "First, we load the CSV datasets into dataframes into python"
      ],
      "id": "1054b3e0"
    },
    {
      "cell_type": "code",
      "metadata": {},
      "source": [
        "crimes10 = pd.read_csv('Crimes2010.csv')\n",
        "crimes1112 = pd.read_csv('Crimes20112012.csv')\n",
        "crimes131415 = pd.read_csv('Crimes201320142015.csv')"
      ],
      "id": "655ab22a",
      "execution_count": null,
      "outputs": []
    },
    {
      "cell_type": "markdown",
      "metadata": {},
      "source": [
        "Then we examine the columns of crime data "
      ],
      "id": "62f11b67"
    },
    {
      "cell_type": "code",
      "metadata": {},
      "source": [
        "print(\"2010 Columns:\", crimes10.columns)"
      ],
      "id": "17c33965",
      "execution_count": null,
      "outputs": []
    },
    {
      "cell_type": "markdown",
      "metadata": {},
      "source": [
        "We then merge the datasets together so we have a crime rate dataset from 2010 - 2015 and examine it."
      ],
      "id": "3827fecb"
    },
    {
      "cell_type": "code",
      "metadata": {},
      "source": [
        "totalcrimedata = pd.concat([crimes2010, crimes1112, crimes131415])\n",
        "print(totalcrimedata.info())"
      ],
      "id": "e7c5040f",
      "execution_count": null,
      "outputs": []
    },
    {
      "cell_type": "markdown",
      "metadata": {},
      "source": [
        "Summary statistics for numerical columns "
      ],
      "id": "4b51ab78"
    },
    {
      "cell_type": "code",
      "metadata": {},
      "source": [
        "print(totalcrimedata.describe())"
      ],
      "id": "14644717",
      "execution_count": null,
      "outputs": []
    },
    {
      "cell_type": "markdown",
      "metadata": {},
      "source": [
        "# Now we will convert the longitude and latitude in the crime data into ZIP Code by using an external shapefile and cross referencing this shapefule with our crime dataset\n",
        "Load ZIP code shapefiles"
      ],
      "id": "970334ee"
    },
    {
      "cell_type": "code",
      "metadata": {},
      "source": [
        "zip_shapes = gpd.read_file(\"/Users/jennyzhong/Documents/GitHub/final-Project-DAP-II/ZIP Code Shapefiles/tl_2015_us_zcta510.shp\")"
      ],
      "id": "80ed6cb2",
      "execution_count": null,
      "outputs": []
    },
    {
      "cell_type": "markdown",
      "metadata": {},
      "source": [
        "Here, we are transforming spatial data into a consistent coordinate reference system (EPSG:4326), creating geometric points from longitude and latitude, and combining this data into a GeoDataFrame for spatial analysis."
      ],
      "id": "89cd7e12"
    },
    {
      "cell_type": "code",
      "metadata": {},
      "source": [
        "zip_shapes = zip_shapes.to_crs(\"EPSG:4326\")\n",
        "print(zip_shapes.head())"
      ],
      "id": "b39db933",
      "execution_count": null,
      "outputs": []
    },
    {
      "cell_type": "code",
      "metadata": {},
      "source": [
        "geometry = [Point(xy) for xy in zip(totalcrimedata['Longitude'], totalcrimedata['Latitude'])]"
      ],
      "id": "64b6e3f6",
      "execution_count": null,
      "outputs": []
    },
    {
      "cell_type": "code",
      "metadata": {},
      "source": [
        "crime_gdf = gpd.GeoDataFrame(totalcrimedata, geometry=geometry, crs=\"EPSG:4326\") \n",
        "print(crime_gdf.head())"
      ],
      "id": "e521e5c2",
      "execution_count": null,
      "outputs": []
    },
    {
      "cell_type": "markdown",
      "metadata": {},
      "source": [
        "Then we are creating buffer zones around each geometry point in crime_gdf with a radius of 0.01 units, modifying the geometry column to reflect these expanded areas."
      ],
      "id": "f630b6fa"
    },
    {
      "cell_type": "code",
      "metadata": {},
      "source": [
        "crime_gdf['geometry'] = crime_gdf.geometry.buffer(0.01)"
      ],
      "id": "92fdf48d",
      "execution_count": null,
      "outputs": []
    },
    {
      "cell_type": "markdown",
      "metadata": {},
      "source": [
        "We are then performing a spatial join to match crime_gdf (containing crime data) with zip_shapes based on their spatial intersection, and saving the resulting data to a CSV file."
      ],
      "id": "b06f5feb"
    },
    {
      "cell_type": "code",
      "metadata": {},
      "source": [
        "matched_data = gpd.sjoin(crime_gdf, zip_shapes, how=\"left\", predicate=\"intersects\")\n",
        "\n",
        "matched_data.to_csv(\"filtered_crime_data.csv\", index=False)"
      ],
      "id": "93836c9d",
      "execution_count": null,
      "outputs": []
    },
    {
      "cell_type": "markdown",
      "metadata": {},
      "source": [
        "Operate from CSV file"
      ],
      "id": "122af126"
    },
    {
      "cell_type": "code",
      "metadata": {},
      "source": [
        "matched_data = pd.read_csv(\"filtered_crime_data.csv\")\n",
        "print(matched_data.head())"
      ],
      "id": "b611c9ed",
      "execution_count": null,
      "outputs": []
    },
    {
      "cell_type": "markdown",
      "metadata": {},
      "source": [
        "Drop appropriate columns "
      ],
      "id": "90dc06e6"
    },
    {
      "cell_type": "code",
      "metadata": {},
      "source": [
        "matched_data.drop(columns=['ID', 'District', 'Community Area', 'CLASSFP10', 'MTFCC10', 'FUNCSTAT10', 'ALAND10', 'AWATER10', 'FBI Code', 'Updated On', 'GEOID10'], inplace=True)\n",
        "print(matched_data.head())"
      ],
      "id": "0e22135e",
      "execution_count": null,
      "outputs": []
    },
    {
      "cell_type": "markdown",
      "metadata": {},
      "source": [
        "Convert the Date column to a datetime format"
      ],
      "id": "30045081"
    },
    {
      "cell_type": "code",
      "metadata": {},
      "source": [
        "matched_data['Date'] = pd.to_datetime(matched_data['Date'], errors='coerce')"
      ],
      "id": "c9f060bc",
      "execution_count": null,
      "outputs": []
    },
    {
      "cell_type": "markdown",
      "metadata": {},
      "source": [
        "Create new columns (YearMonthDay and Time) to separately store the date and time components of the Date column. "
      ],
      "id": "2c7fb8a2"
    },
    {
      "cell_type": "code",
      "metadata": {},
      "source": [
        "matched_data['YearMonthDay'] = matched_data['Date'].dt.date\n",
        "matched_data['Time'] = matched_data['Date'].dt.time"
      ],
      "id": "ab7ba9b0",
      "execution_count": null,
      "outputs": []
    },
    {
      "cell_type": "markdown",
      "metadata": {},
      "source": [
        "Rearrange the columns to place YearMonthDay immediately after Case Number for better organization"
      ],
      "id": "bc0b1303"
    },
    {
      "cell_type": "code",
      "metadata": {},
      "source": [
        "columns = matched_data.columns.tolist()\n",
        "columns.remove('YearMonthDay')\n",
        "columns.insert(columns.index('Case Number') + 1, 'YearMonthDay')\n",
        "matched_data = matched_data[columns]\n",
        "print(matched_data.columns)"
      ],
      "id": "25e87015",
      "execution_count": null,
      "outputs": []
    },
    {
      "cell_type": "markdown",
      "metadata": {},
      "source": [
        "Save the cleaned and restructured data to a CSV file"
      ],
      "id": "a12063b0"
    },
    {
      "cell_type": "code",
      "metadata": {},
      "source": [
        "matched_data.to_csv(\"filtered_crime_data.csv\", index=False)"
      ],
      "id": "d2527212",
      "execution_count": null,
      "outputs": []
    },
    {
      "cell_type": "markdown",
      "metadata": {},
      "source": [
        "# Merging weather data together and merging weather data with ZIP code \n",
        "\n",
        "Merging all 2010 - 2015 datasets together. The process is similar to the above. "
      ],
      "id": "7f497a3a"
    },
    {
      "cell_type": "code",
      "metadata": {},
      "source": [
        "weather2010 = pd.read_csv('AT2010.csv')\n",
        "weather2011 = pd.read_csv('AT2011.csv')\n",
        "weather2012 = pd.read_csv('AT2012.csv')\n",
        "weather2013 = pd.read_csv('AT2013.csv')\n",
        "weather2014 = pd.read_csv('AT2014.csv')\n",
        "weather2015 = pd.read_csv('AT2015.csv')"
      ],
      "id": "cdc3febf",
      "execution_count": null,
      "outputs": []
    },
    {
      "cell_type": "code",
      "metadata": {},
      "source": [
        "total_weather = pd.concat([weather2010, weather2011, weather2012, weather2013, weather2014, weather2015], ignore_index=True)"
      ],
      "id": "a9510f6d",
      "execution_count": null,
      "outputs": []
    },
    {
      "cell_type": "markdown",
      "metadata": {},
      "source": [
        "Convert weather data to geodataframe"
      ],
      "id": "98cea2a3"
    },
    {
      "cell_type": "code",
      "metadata": {},
      "source": [
        "geometry = [Point(xy) for xy in zip(total_weather['LONGITUDE'], total_weather['LATITUDE'])]\n",
        "\n",
        "weather_gdf = gpd.GeoDataFrame(total_weather, geometry=geometry)\n",
        "\n",
        "weather_gdf.set_crs(\"EPSG:4326\", inplace=True)\n",
        "\n",
        "weather_gdf['geometry'] = weather_gdf.geometry.buffer(0.01)"
      ],
      "id": "0ba13e76",
      "execution_count": null,
      "outputs": []
    },
    {
      "cell_type": "markdown",
      "metadata": {},
      "source": [
        "Load the ZIP Code Shapefile"
      ],
      "id": "f9dc1eeb"
    },
    {
      "cell_type": "code",
      "metadata": {},
      "source": [
        "zip_shapefile = gpd.read_file('/Users/jennyzhong/Documents/GitHub/final-Project-DAP-II/ZIP_Code_Shapefiles/tl_2015_us_zcta510.shp')\n",
        "\n",
        "zip_shapefile = zip_shapefile.to_crs(\"EPSG:4326\")"
      ],
      "id": "0bc59735",
      "execution_count": null,
      "outputs": []
    },
    {
      "cell_type": "markdown",
      "metadata": {},
      "source": [
        "Spatial join to match the zip codes"
      ],
      "id": "83fbe968"
    },
    {
      "cell_type": "code",
      "metadata": {},
      "source": [
        "weather_with_zip = gpd.sjoin(weather_gdf, zip_shapefile, how='left', predicate='intersects')\n",
        "\n",
        "print(weather_with_zip.head())"
      ],
      "id": "2fe45188",
      "execution_count": null,
      "outputs": []
    },
    {
      "cell_type": "markdown",
      "metadata": {},
      "source": [
        "Drop irrelevant dataframes: "
      ],
      "id": "ad2bcebc"
    },
    {
      "cell_type": "code",
      "metadata": {},
      "source": [
        "weather_with_zip.drop([\"CLASSFP10\", \"MTFCC10\", \"FUNCSTAT10\", \"ALAND10\", \"AWATER10\", \"GEOID10\"], axis=1, inplace=True)\n",
        "\n",
        "print(weather_with_zip)"
      ],
      "id": "e9a59a0e",
      "execution_count": null,
      "outputs": []
    },
    {
      "cell_type": "markdown",
      "metadata": {},
      "source": [
        "Final CSV file for weather "
      ],
      "id": "b5abe4a8"
    },
    {
      "cell_type": "code",
      "metadata": {},
      "source": [
        "weather_with_zip.to_csv(\"weather_with_zip.csv\", index=False)"
      ],
      "id": "026aaa9f",
      "execution_count": null,
      "outputs": []
    },
    {
      "cell_type": "markdown",
      "metadata": {},
      "source": [
        "Loading CSV file "
      ],
      "id": "bf834d39"
    },
    {
      "cell_type": "code",
      "metadata": {},
      "source": [
        "weatherfinal = pd.read_csv('/Users/jennyzhong/Documents/GitHub/final-Project-DAP-II/Final project/Weather_Data/weather_with_zip.csv')"
      ],
      "id": "e2b54478",
      "execution_count": null,
      "outputs": []
    },
    {
      "cell_type": "markdown",
      "metadata": {},
      "source": [
        "Dropping unnecessary columns"
      ],
      "id": "7d4beace"
    },
    {
      "cell_type": "code",
      "metadata": {},
      "source": [
        "weatherfinal.head(10)\n",
        "weatherfinal = weatherfinal.drop(columns=['TMAX', 'TMIN', 'ELEVATION', 'index_right'])"
      ],
      "id": "e4c89282",
      "execution_count": null,
      "outputs": []
    },
    {
      "cell_type": "markdown",
      "metadata": {},
      "source": [
        "Saving to a CSV file "
      ],
      "id": "44b42c47"
    },
    {
      "cell_type": "code",
      "metadata": {},
      "source": [
        "weatherfinal.to_csv('/Users/jennyzhong/Documents/GitHub/final-Project-DAP-II/Final project/Weather_Data/weather_raw.csv', index=False)"
      ],
      "id": "57469dca",
      "execution_count": null,
      "outputs": []
    },
    {
      "cell_type": "markdown",
      "metadata": {},
      "source": [
        "# Apply function to your data\n",
        "\n",
        "\n",
        "\n",
        "# Save the updated dataframe to a new CSV\n"
      ],
      "id": "002dedc9"
    },
    {
      "cell_type": "code",
      "metadata": {},
      "source": [
        "##installing the necessary packages\n",
        "import pandas as pd\n",
        "import matplotlib.pyplot as plt\n",
        "import altair as alt\n",
        "import numpy as np\n",
        "import geopandas as gpd\n",
        "import shapely\n",
        "import shiny\n",
        "#from shapely.geometry import Point\n",
        "#import pgeocode"
      ],
      "id": "cf274eed",
      "execution_count": null,
      "outputs": []
    },
    {
      "cell_type": "markdown",
      "metadata": {},
      "source": [
        "## Data experiment\n",
        "\n",
        "\n",
        "## Data Visualization\n",
        "#merging the data\n",
        "#For the following data, we decided to filter the information down to \n",
        "#2010-2015 because 30 GB is way too much, the following code is how we \n",
        "#shrunk the data \n"
      ],
      "id": "43e9978e"
    },
    {
      "cell_type": "code",
      "metadata": {},
      "source": [
        "#final_crime_data = pd.read_csv(r'C:\\Users\\madig\\Documents\\Github\\Year 2024-2025\\final-Project-DAP-II\\final_crime_data.csv')\n",
        "#final_weather_data = pd.read_csv(r'C:\\Users\\madig\\Documents\\Github\\Year 2024-2025\\final-Project-DAP-II\\final_weather_data.csv')"
      ],
      "id": "f101af79",
      "execution_count": null,
      "outputs": []
    },
    {
      "cell_type": "code",
      "metadata": {},
      "source": [
        "#final_crime_data = pd.read_csv(r'C:\\Users\\madig\\Documents\\Github\\Year 2024-2025\\final-Project-DAP-II\\final_crime_data.csv')\n",
        "#final_crime_data['DATE'] = pd.to_datetime(final_crime_data['YearMonthDay'])\n",
        "#filtered_crime_data = final_crime_data[\n",
        "#    (final_crime_data['DATE'].dt.year >= 2010) & (final_crime_data['DATE'].dt.year <= 2015)\n",
        "#]\n",
        "#filtered_crime_data.to_csv('filtered_crime_data.csv', index=False)"
      ],
      "id": "a5164969",
      "execution_count": null,
      "outputs": []
    },
    {
      "cell_type": "markdown",
      "metadata": {},
      "source": [
        "So this is the filtered data from 2010-2015\n",
        "\n",
        "Crime data grouping and removing unneccesary columns \n",
        "\n",
        "And making a function to group crime types\n"
      ],
      "id": "396c2c52"
    },
    {
      "cell_type": "code",
      "metadata": {},
      "source": [
        "filtered_weather_data = pd.read_csv(r'C:\\Users\\madig\\Documents\\Github\\Year 2024-2025\\final-Project-DAP-II\\Final project\\weatherfinal_cleaned.csv')\n",
        "filtered_crime_data = pd.read_csv(r'C:\\Users\\madig\\Documents\\Github\\Year 2024-2025\\final-Project-DAP-II\\Final project\\filtered_crime_data.csv')"
      ],
      "id": "992c8164",
      "execution_count": null,
      "outputs": []
    },
    {
      "cell_type": "code",
      "metadata": {},
      "source": [
        "unique_primary_types = filtered_crime_data['Primary Type'].unique()\n",
        "\n",
        "def categorize_crime(crime_type):\n",
        "    if crime_type in ['BATTERY', 'ASSAULT', 'ROBBERY', 'SEX OFFENSE', \n",
        "                      'CRIM SEXUAL ASSAULT', 'CRIMINAL SEXUAL ASSAULT', \n",
        "                      'HOMICIDE', 'KIDNAPPING', 'STALKING', 'INTIMIDATION']:\n",
        "        return 'Violent Crimes'\n",
        "    elif crime_type in ['MOTOR VEHICLE THEFT', 'THEFT', 'BURGLARY', \n",
        "                        'CRIMINAL DAMAGE', 'ARSON', 'CRIMINAL TRESPASS']:\n",
        "        return 'Property Crimes'\n",
        "    elif crime_type in ['WEAPONS VIOLATION', 'PUBLIC PEACE VIOLATION', \n",
        "                        'LIQUOR LAW VIOLATION', 'OBSCENITY', \n",
        "                        'PUBLIC INDECENCY', 'CONCEALED CARRY LICENSE VIOLATION']:\n",
        "        return 'Public Order and Regulatory Violations'\n",
        "    else:\n",
        "        return 'Other Offenses'\n",
        "\n",
        "filtered_crime_data['Crime Type Group'] = filtered_crime_data['Primary Type'].apply(categorize_crime)\n",
        "\n",
        "columns_to_drop = [\n",
        "    'YearMonthDay', 'Block', 'IUCR', 'Primary Type', 'Description',\n",
        "    'Location Description', 'Arrest', 'Domestic', 'Beat', 'Ward',\n",
        "    'FBI Code', 'X Coordinate', 'Y Coordinate', 'Year', 'Location',\n",
        "    'ID', 'District', 'Community Area', 'index_right', 'INTPTLAT10', \n",
        "    'INTPTLON10'\n",
        "]\n",
        "\n",
        "filtered_crime_data = filtered_crime_data.drop(columns=columns_to_drop)\n",
        "\n",
        "filtered_crime_data = filtered_crime_data.dropna(subset=['ZCTA5CE10'])\n",
        "filtered_crime_data['ZCTA5CE10'] = filtered_crime_data['ZCTA5CE10'].astype(int)\n",
        "\n",
        "filtered_crime_data.rename(columns={'ZCTA5CE10': 'ZIP_CODE'}, inplace=True)\n",
        "\n",
        "print(filtered_crime_data.head())"
      ],
      "id": "2503a0d8",
      "execution_count": null,
      "outputs": []
    },
    {
      "cell_type": "markdown",
      "metadata": {},
      "source": [
        "Merging\n"
      ],
      "id": "51d397d6"
    },
    {
      "cell_type": "code",
      "metadata": {},
      "source": [
        "# Ensure DATE columns are in datetime format\n",
        "filtered_crime_data['DATE'] = pd.to_datetime(filtered_crime_data['DATE'])\n",
        "filtered_weather_data['DATE'] = pd.to_datetime(filtered_weather_data['DATE'])\n",
        "\n",
        "# Group the crime data to create a Crime Count column\n",
        "crime_summary = filtered_crime_data.groupby(['DATE', 'ZIP_CODE', 'Crime Type Group']).size().reset_index(name='Crime Count')\n",
        "\n",
        "# Merge the grouped crime summary with the weather data on DATE and ZIP_CODE\n",
        "merged_data = pd.merge(\n",
        "    crime_summary,\n",
        "    filtered_weather_data[['DATE', 'ZIP_CODE', 'TAVG', 'geometry']],  # Select relevant weather columns\n",
        "    on=['DATE', 'ZIP_CODE'],\n",
        "    how='inner'  # Use 'inner' to match rows in both datasets\n",
        ")\n",
        "\n",
        "# Display the first few rows of the merged dataset\n",
        "print(merged_data.head())\n",
        "\n",
        "# Save the merged dataset to a CSV file\n",
        "merged_data.to_csv(r'C:\\Users\\madig\\Documents\\Github\\Year 2024-2025\\final-Project-DAP-II\\Final project\\merged_data.csv', index=False)\n"
      ],
      "id": "7cc3661a",
      "execution_count": null,
      "outputs": []
    },
    {
      "cell_type": "markdown",
      "metadata": {},
      "source": [
        "#Now that the data is filtered lets make the two charts\n",
        "#BarChart\n"
      ],
      "id": "71459d6e"
    },
    {
      "cell_type": "code",
      "metadata": {},
      "source": [
        "import pandas as pd\n",
        "import matplotlib.pyplot as plt\n",
        "\n",
        "# Bin the temperature data into 15-unit ranges\n",
        "filtered_weather_data['TAVG_bin'] = pd.cut(\n",
        "    filtered_weather_data['TAVG'], \n",
        "    bins=range(int(filtered_weather_data['TAVG'].min()) // 15 * 15, \n",
        "               int(filtered_weather_data['TAVG'].max()) // 15 * 15 + 15, \n",
        "               15), \n",
        "    right=False\n",
        ")\n",
        "\n",
        "# Merge crime and weather data to keep crime group info\n",
        "merged_data_with_bins = pd.merge(\n",
        "    merged_data,\n",
        "    filtered_weather_data[['DATE', 'TAVG_bin']], \n",
        "    on='DATE',\n",
        "    how='left'\n",
        ")\n",
        "\n",
        "# Group data by TAVG_bin and Crime Type Group\n",
        "crime_distribution = merged_data_with_bins.groupby(['TAVG_bin', 'Crime Type Group'])['Crime Count'].sum().unstack(fill_value=0)\n",
        "\n",
        "# Plot stacked bar chart\n",
        "crime_distribution.plot(kind='bar', stacked=True, figsize=(12, 7), width=0.9)\n",
        "plt.title('Crime Distribution by Temperature Range (Binned by 15)')\n",
        "plt.xlabel('Temperature Range (°F)')\n",
        "plt.ylabel('Total Crime Count')\n",
        "plt.xticks(rotation=45, ha='right')  # Rotate x-axis labels for better readability\n",
        "plt.legend(title='Crime Type Group')\n",
        "plt.grid(axis='y', linestyle='--', alpha=0.7)\n",
        "plt.tight_layout()\n",
        "plt.show()\n"
      ],
      "id": "f5b82077",
      "execution_count": null,
      "outputs": []
    },
    {
      "cell_type": "markdown",
      "metadata": {},
      "source": [
        "#Aggregated time series"
      ],
      "id": "044c7337"
    },
    {
      "cell_type": "code",
      "metadata": {},
      "source": [
        "import pandas as pd\n",
        "import matplotlib.pyplot as plt\n",
        "\n",
        "# Load the merged dataset\n",
        "merged_data_path = r'C:\\Users\\madig\\Documents\\Github\\Year 2024-2025\\final-Project-DAP-II\\Final project\\merged_data.csv'\n",
        "merged_data = pd.read_csv(merged_data_path)\n",
        "\n",
        "# Ensure DATE column is in datetime format\n",
        "merged_data['DATE'] = pd.to_datetime(merged_data['DATE'])\n",
        "\n",
        "# Aggregate data by Date across all ZIP codes\n",
        "all_zip_time_series = merged_data.groupby('DATE').agg(\n",
        "    total_crime=('Crime Count', 'sum'),  # Sum up crime counts\n",
        "    avg_temp=('TAVG', 'mean')  # Average temperature\n",
        ").reset_index()\n",
        "\n",
        "# Plot the time-series\n",
        "plt.figure(figsize=(12, 6))\n",
        "\n",
        "# Plot Crime Count\n",
        "plt.plot(all_zip_time_series['DATE'], all_zip_time_series['total_crime'], label='Total Crime', color='red')\n",
        "\n",
        "# Plot Average Temperature\n",
        "plt.plot(all_zip_time_series['DATE'], all_zip_time_series['avg_temp'], label='Average Temperature (TAVG)', color='blue')\n",
        "\n",
        "# Add titles and labels\n",
        "plt.title('City-Wide Crime and Temperature Trends Over Time', fontsize=16)\n",
        "plt.xlabel('Date', fontsize=12)\n",
        "plt.ylabel('Count / Temperature', fontsize=12)\n",
        "plt.legend()\n",
        "plt.grid(True)\n",
        "\n",
        "# Display the plot\n",
        "plt.show()"
      ],
      "id": "e5960522",
      "execution_count": null,
      "outputs": []
    },
    {
      "cell_type": "markdown",
      "metadata": {},
      "source": [
        "We explain the following graphs here: \n",
        "\n",
        "![Graph 1 Description](Graphs/graph1.jpeg)\n",
        "\n",
        "\n",
        "![Graph 2 Description](Graphs/Graph2.jpeg)\n",
        "\n",
        "\n",
        "![Graph 3 Description](Graphs/Graph3.jpeg)\n",
        "\n",
        "\n",
        "## Shiny App\n",
        "\n",
        "\n",
        "\n",
        "\n",
        "\n",
        "## Policy Implications \n",
        "\n",
        "Our findings demonstrate a positive correlation between temperature and violent crime rates, aligning with prior research on the relationship between environmental factors and criminal activity. This connection underscores the importance of understanding how temperature fluctuations influence public behavior and safety.\n",
        "From a public safety perspective, this insight allows police departments to better anticipate “busy seasons” for violent crimes, particularly during warmer months. With this knowledge, law enforcement agencies can optimize resource allocation, ensuring adequate staffing and preparation to handle increased workloads effectively.\n",
        "Additionally, the implications extend to the broader context of climate change. As global temperatures continue to rise, it becomes increasingly critical to assess and address the potential impacts on public safety. Policymakers can use this information to formulate strategies that mitigate the risks associated with climate-induced changes in crime patterns, contributing to more resilient urban environments.\n",
        "\n",
        "## Directions for Future Work\n",
        "\n",
        "To broaden the scope and applicability of our findings, future research should expand the analysis to other American cities. This would help determine whether the patterns observed in Chicago are consistent across different urban contexts, offering a more comprehensive understanding of how temperature impacts crime in diverse environments.\n",
        "A global analysis could further enhance the study by assessing whether the relationship between temperature and crime is universal or shaped by cultural and geographic factors. Examining this phenomenon in international settings would provide valuable insights into the broader applicability of our findings and reveal potential variations influenced by societal norms and regional climates.\n",
        "Additionally, incorporating other variables such as humidity, unemployment rates, and urban density could create a more robust and nuanced model. These factors may interact with temperature in complex ways, offering a deeper understanding of the environmental and socio-economic drivers of crime. By expanding this research, we can gain a more thorough understanding of the intersection between climate, public safety, and social behavior, ultimately contributing to more informed policy and crime prevention strategies."
      ],
      "id": "2ef927c1"
    }
  ],
  "metadata": {
    "kernelspec": {
      "name": "python3",
      "language": "python",
      "display_name": "Python 3 (ipykernel)",
      "path": "/Users/jennyzhong/Documents/GitHub/final-Project-DAP-II/myenv/share/jupyter/kernels/python3"
    }
  },
  "nbformat": 4,
  "nbformat_minor": 5
}