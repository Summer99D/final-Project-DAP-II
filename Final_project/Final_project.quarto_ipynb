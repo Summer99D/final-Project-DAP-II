{
  "cells": [
    {
      "cell_type": "markdown",
      "metadata": {},
      "source": [
        "---\n",
        "\n",
        "title: \"DAP II: Final Project\"\n",
        "author: \"Genevieve Madigan, Summer Negahdar, Jenny Zhong\"\n",
        "date: \"Fall 2024\"\n",
        "format: \n",
        "  html:\n",
        "    default-code-block-options:\n",
        "      eval: true  # Code will not be executed, no output from it\n",
        "      echo: false \n",
        "      \n",
        "---\n",
        "\n",
        "# Workflow and team members\n",
        "Genevieve Madigan: Madigan989\n",
        "-responsibility: write up and data visualization\n",
        "Summer Negahdar: Summer99D\n",
        "-responsibility: creation of shiny app and data visualization\n",
        "Jenny Zhong: datapolicypython\n",
        "-responsibility: data cleaning and preparation\n",
        "\n",
        "\n",
        "## Introduction and prior articles\n",
        "\n",
        "# Research Question\n",
        "Our project investigates the impact of temperature on crime rates in Chicago, focusing on both violent and non-violent crimes. Specifically, our research question is: How does weather affect the occurrence and types of crimes within specific ZIP codes in Chicago?\n",
        "Inspired by a study published in the Journal of Criminal Justice (2015–2021) analyzing the temperature-crime relationship across multiple cities, we extended this work to a different time frame (2010–2015). This allowed us to test the study's conclusions during a period of varying political leadership, economic conditions, and macro trends. Understanding these dynamics can inform public safety strategies and resource allocation in response to climate patterns.\n",
        "Prior research, including the temperature-aggression hypothesis (Kahn, Deschenes, and Greenstone, 2009) and routine activity theory (Gottfredson and Hirschi, 1990), shows that environmental factors significantly affect criminal activity. These frameworks suggest higher temperatures may increase aggression, while weather influences daily activities, affecting crime opportunities. \n",
        "\n",
        "# Methodology\n",
        "To conduct our analysis, we utilized two primary datasets. The crime data was retrieved from the Chicago Data Portal, spanning the years 2004 to 2015. Due to the large size of this dataset, we narrowed our scope to focus on the period from 2010 to 2015 to make the analysis more computationally manageable. Weather data was acquired from the National Oceanic and Atmospheric Administration’s (NOAA) daily summaries, providing average, minimum, and maximum temperatures for the city of Chicago.\n",
        "To analyze the spatial relationship between crime and weather data, we mapped latitude and longitude coordinates to ZIP Codes using ZIP Code Tabulation Area (ZCTA) shapefiles from the U.S. Census Bureau’s TIGER/Line database. The data preparation process involved several steps. First, we loaded the ZCTA shapefiles into Python as GeoDataFrames using the geopandas library and reprojected them to the EPSG:4326 coordinate system to ensure compatibility with the datasets.\n",
        "Next, latitude and longitude values from the crime and weather datasets were converted into shapely.geometry.Point objects to create geospatial geometries. To address precision issues near ZCTA boundaries, small buffers were applied to these points, which slightly expanded their spatial coverage. This step improved the accuracy of subsequent spatial joins by reducing mismatches caused by minor spatial discrepancies.\n",
        "Finally, a spatial join was performed using the gpd.sjoin() function to map each point to its corresponding ZCTA polygon. These ZCTAs were then translated into ZIP Codes, allowing us to align the crime and weather data spatially for analysis. This process ensured that each data point was correctly associated with its geographical context, enabling a robust examination of the relationship between temperature and crime across Chicago.\n",
        "\n",
        "# Challenges\n",
        "The crime dataset initially posed significant challenges due to its size, totaling approximately 30GB. This required substantial computational resources for processing and analysis. To address this, we reduced the analysis time frame to 2010–2015, which decreased the dataset size to 13GB. While this adjustment made the dataset more manageable, it still presented difficulties in terms of sharing and processing efficiently. Additionally, to visualize the data and build a functional Shiny app, we had to sample only 1% of the dataset to ensure the app could handle the data volume without performance issues.\n",
        "Geospatial analysis introduced further complexities. Mapping latitude and longitude coordinates to ZIP Codes required intensive computations, particularly when working with large datasets. Loading geographic centroids and resolving mismatches during spatial joins added delays to the workflow, highlighting the challenges of working with spatial data at this scale.\n",
        "Another issue we encountered was standardizing date formats across the crime and weather datasets. These inconsistencies necessitated additional preprocessing to align timeframes accurately, ensuring that the data could be integrated seamlessly for analysis. This step was critical to maintaining the temporal consistency required for our study.\n",
        "\n",
        "## Methodology with codes \n",
        "# Crime data: Merging crime data together and merging crime data with ZIP Code\n",
        "1. Loading data together"
      ],
      "id": "f2b1adf0"
    },
    {
      "cell_type": "code",
      "metadata": {},
      "source": [
        "import pandas as pd\n",
        "import geopandas as gpd\n",
        "import shapely\n",
        "import pandas as pd\n",
        "from shapely.geometry import Point\n",
        "import matplotlib.pyplot as plt\n",
        "import altair as alt\n",
        "import numpy as np\n",
        "import shiny"
      ],
      "id": "4bd4d6eb",
      "execution_count": null,
      "outputs": []
    },
    {
      "cell_type": "markdown",
      "metadata": {},
      "source": [
        "As mentioned above, after the presentation, we decided that we would shorten our datasets to 2010 - 2015 so it would be easier to load into our laptops. Subsequently, the code we have accommodates this change below. \n",
        "\n",
        "First, we load the CSV datasets into dataframes into python"
      ],
      "id": "5402a217"
    },
    {
      "cell_type": "code",
      "metadata": {},
      "source": [
        "crimes10 = pd.read_csv('Crimes2010.csv')\n",
        "crimes1112 = pd.read_csv('Crimes20112012.csv')\n",
        "crimes131415 = pd.read_csv('Crimes201320142015.csv')"
      ],
      "id": "a057f176",
      "execution_count": null,
      "outputs": []
    },
    {
      "cell_type": "markdown",
      "metadata": {},
      "source": [
        "Then we examine the columns of crime data "
      ],
      "id": "c524acab"
    },
    {
      "cell_type": "code",
      "metadata": {},
      "source": [
        "print(\"2010 Columns:\", crimes10.columns)"
      ],
      "id": "48d44fee",
      "execution_count": null,
      "outputs": []
    },
    {
      "cell_type": "markdown",
      "metadata": {},
      "source": [
        "We then merge the datasets together so we have a crime rate dataset from 2010 - 2015 and examine it."
      ],
      "id": "937beae7"
    },
    {
      "cell_type": "code",
      "metadata": {},
      "source": [
        "totalcrimedata = pd.concat([crimes2010, crimes1112, crimes131415])\n",
        "print(totalcrimedata.info())"
      ],
      "id": "e452e217",
      "execution_count": null,
      "outputs": []
    },
    {
      "cell_type": "markdown",
      "metadata": {},
      "source": [
        "Summary statistics for numerical columns "
      ],
      "id": "c44a7d7e"
    },
    {
      "cell_type": "code",
      "metadata": {},
      "source": [
        "print(totalcrimedata.describe())"
      ],
      "id": "47dda9fd",
      "execution_count": null,
      "outputs": []
    },
    {
      "cell_type": "markdown",
      "metadata": {},
      "source": [
        "# Now we will convert the longitude and latitude in the crime data into ZIP Code by using an external shapefile and cross referencing this shapefule with our crime dataset\n",
        "Load ZIP code shapefiles"
      ],
      "id": "6dab3504"
    },
    {
      "cell_type": "code",
      "metadata": {},
      "source": [
        "zip_shapes = gpd.read_file(\"/Users/jennyzhong/Documents/GitHub/final-Project-DAP-II/ZIP Code Shapefiles/tl_2015_us_zcta510.shp\")"
      ],
      "id": "380f4add",
      "execution_count": null,
      "outputs": []
    },
    {
      "cell_type": "markdown",
      "metadata": {},
      "source": [
        "Here, we are transforming spatial data into a consistent coordinate reference system (EPSG:4326), creating geometric points from longitude and latitude, and combining this data into a GeoDataFrame for spatial analysis."
      ],
      "id": "eacbd59a"
    },
    {
      "cell_type": "code",
      "metadata": {},
      "source": [
        "zip_shapes = zip_shapes.to_crs(\"EPSG:4326\")\n",
        "print(zip_shapes.head())"
      ],
      "id": "f3823b0e",
      "execution_count": null,
      "outputs": []
    },
    {
      "cell_type": "code",
      "metadata": {},
      "source": [
        "geometry = [Point(xy) for xy in zip(totalcrimedata['Longitude'], totalcrimedata['Latitude'])]"
      ],
      "id": "2bcc3103",
      "execution_count": null,
      "outputs": []
    },
    {
      "cell_type": "code",
      "metadata": {},
      "source": [
        "crime_gdf = gpd.GeoDataFrame(totalcrimedata, geometry=geometry, crs=\"EPSG:4326\") \n",
        "print(crime_gdf.head())"
      ],
      "id": "e782620e",
      "execution_count": null,
      "outputs": []
    },
    {
      "cell_type": "markdown",
      "metadata": {},
      "source": [
        "Then we are creating buffer zones around each geometry point in crime_gdf with a radius of 0.01 units, modifying the geometry column to reflect these expanded areas."
      ],
      "id": "32efd8b1"
    },
    {
      "cell_type": "code",
      "metadata": {},
      "source": [
        "crime_gdf['geometry'] = crime_gdf.geometry.buffer(0.01)"
      ],
      "id": "02db408c",
      "execution_count": null,
      "outputs": []
    },
    {
      "cell_type": "markdown",
      "metadata": {},
      "source": [
        "We are then performing a spatial join to match crime_gdf (containing crime data) with zip_shapes based on their spatial intersection, and saving the resulting data to a CSV file."
      ],
      "id": "328812f4"
    },
    {
      "cell_type": "code",
      "metadata": {},
      "source": [
        "matched_data = gpd.sjoin(crime_gdf, zip_shapes, how=\"left\", predicate=\"intersects\")\n",
        "\n",
        "matched_data.to_csv(\"filtered_crime_data.csv\", index=False)"
      ],
      "id": "1c650f25",
      "execution_count": null,
      "outputs": []
    },
    {
      "cell_type": "markdown",
      "metadata": {},
      "source": [
        "Operate from CSV file"
      ],
      "id": "3b6dc180"
    },
    {
      "cell_type": "code",
      "metadata": {},
      "source": [
        "matched_data = pd.read_csv(\"filtered_crime_data.csv\")\n",
        "print(matched_data.head())"
      ],
      "id": "e3fb654a",
      "execution_count": null,
      "outputs": []
    },
    {
      "cell_type": "markdown",
      "metadata": {},
      "source": [
        "Drop appropriate columns "
      ],
      "id": "92432683"
    },
    {
      "cell_type": "code",
      "metadata": {},
      "source": [
        "matched_data.drop(columns=['ID', 'District', 'Community Area', 'CLASSFP10', 'MTFCC10', 'FUNCSTAT10', 'ALAND10', 'AWATER10', 'FBI Code', 'Updated On', 'GEOID10'], inplace=True)\n",
        "print(matched_data.head())"
      ],
      "id": "6cfcd71f",
      "execution_count": null,
      "outputs": []
    },
    {
      "cell_type": "markdown",
      "metadata": {},
      "source": [
        "Convert the Date column to a datetime format"
      ],
      "id": "f9df0e42"
    },
    {
      "cell_type": "code",
      "metadata": {},
      "source": [
        "matched_data['Date'] = pd.to_datetime(matched_data['Date'], errors='coerce')"
      ],
      "id": "54c08b85",
      "execution_count": null,
      "outputs": []
    },
    {
      "cell_type": "markdown",
      "metadata": {},
      "source": [
        "Create new columns (YearMonthDay and Time) to separately store the date and time components of the Date column. "
      ],
      "id": "7da6fb98"
    },
    {
      "cell_type": "code",
      "metadata": {},
      "source": [
        "matched_data['YearMonthDay'] = matched_data['Date'].dt.date\n",
        "matched_data['Time'] = matched_data['Date'].dt.time"
      ],
      "id": "20068545",
      "execution_count": null,
      "outputs": []
    },
    {
      "cell_type": "markdown",
      "metadata": {},
      "source": [
        "Rearrange the columns to place YearMonthDay immediately after Case Number for better organization"
      ],
      "id": "31faf456"
    },
    {
      "cell_type": "code",
      "metadata": {},
      "source": [
        "columns = matched_data.columns.tolist()\n",
        "columns.remove('YearMonthDay')\n",
        "columns.insert(columns.index('Case Number') + 1, 'YearMonthDay')\n",
        "matched_data = matched_data[columns]\n",
        "print(matched_data.columns)"
      ],
      "id": "3d47b1fa",
      "execution_count": null,
      "outputs": []
    },
    {
      "cell_type": "markdown",
      "metadata": {},
      "source": [
        "Save the cleaned and restructured data to a CSV file"
      ],
      "id": "259df5dd"
    },
    {
      "cell_type": "code",
      "metadata": {},
      "source": [
        "matched_data.to_csv(\"filtered_crime_data.csv\", index=False)"
      ],
      "id": "c6871545",
      "execution_count": null,
      "outputs": []
    },
    {
      "cell_type": "markdown",
      "metadata": {},
      "source": [
        "# Merging weather data together and merging weather data with ZIP code \n",
        "\n",
        "Merging all 2010 - 2015 datasets together. The process is similar to the above. "
      ],
      "id": "9db8fc7f"
    },
    {
      "cell_type": "code",
      "metadata": {},
      "source": [
        "weather2010 = pd.read_csv('AT2010.csv')\n",
        "weather2011 = pd.read_csv('AT2011.csv')\n",
        "weather2012 = pd.read_csv('AT2012.csv')\n",
        "weather2013 = pd.read_csv('AT2013.csv')\n",
        "weather2014 = pd.read_csv('AT2014.csv')\n",
        "weather2015 = pd.read_csv('AT2015.csv')"
      ],
      "id": "5f443c08",
      "execution_count": null,
      "outputs": []
    },
    {
      "cell_type": "code",
      "metadata": {},
      "source": [
        "total_weather = pd.concat([weather2010, weather2011, weather2012, weather2013, weather2014, weather2015], ignore_index=True)"
      ],
      "id": "8c8a6658",
      "execution_count": null,
      "outputs": []
    },
    {
      "cell_type": "markdown",
      "metadata": {},
      "source": [
        "Convert weather data to geodataframe"
      ],
      "id": "ccc08da0"
    },
    {
      "cell_type": "code",
      "metadata": {},
      "source": [
        "geometry = [Point(xy) for xy in zip(total_weather['LONGITUDE'], total_weather['LATITUDE'])]\n",
        "\n",
        "weather_gdf = gpd.GeoDataFrame(total_weather, geometry=geometry)\n",
        "\n",
        "weather_gdf.set_crs(\"EPSG:4326\", inplace=True)\n",
        "\n",
        "weather_gdf['geometry'] = weather_gdf.geometry.buffer(0.01)"
      ],
      "id": "aa511c39",
      "execution_count": null,
      "outputs": []
    },
    {
      "cell_type": "markdown",
      "metadata": {},
      "source": [
        "Load the ZIP Code Shapefile"
      ],
      "id": "ec9f5c80"
    },
    {
      "cell_type": "code",
      "metadata": {},
      "source": [
        "zip_shapefile = gpd.read_file('/Users/jennyzhong/Documents/GitHub/final-Project-DAP-II/ZIP_Code_Shapefiles/tl_2015_us_zcta510.shp')\n",
        "\n",
        "zip_shapefile = zip_shapefile.to_crs(\"EPSG:4326\")"
      ],
      "id": "e48307eb",
      "execution_count": null,
      "outputs": []
    },
    {
      "cell_type": "markdown",
      "metadata": {},
      "source": [
        "Spatial join to match the zip codes"
      ],
      "id": "529ca3c3"
    },
    {
      "cell_type": "code",
      "metadata": {},
      "source": [
        "weather_with_zip = gpd.sjoin(weather_gdf, zip_shapefile, how='left', predicate='intersects')\n",
        "\n",
        "print(weather_with_zip.head())"
      ],
      "id": "f61d18d1",
      "execution_count": null,
      "outputs": []
    },
    {
      "cell_type": "markdown",
      "metadata": {},
      "source": [
        "Drop irrelevant dataframes: "
      ],
      "id": "57998a2d"
    },
    {
      "cell_type": "code",
      "metadata": {},
      "source": [
        "weather_with_zip.drop([\"CLASSFP10\", \"MTFCC10\", \"FUNCSTAT10\", \"ALAND10\", \"AWATER10\", \"GEOID10\"], axis=1, inplace=True)\n",
        "\n",
        "print(weather_with_zip)"
      ],
      "id": "0794858d",
      "execution_count": null,
      "outputs": []
    },
    {
      "cell_type": "markdown",
      "metadata": {},
      "source": [
        "Final CSV file for weather "
      ],
      "id": "3f3a00b6"
    },
    {
      "cell_type": "code",
      "metadata": {},
      "source": [
        "weather_with_zip.to_csv(\"weather_with_zip.csv\", index=False)"
      ],
      "id": "75e92665",
      "execution_count": null,
      "outputs": []
    },
    {
      "cell_type": "markdown",
      "metadata": {},
      "source": [
        "Loading CSV file "
      ],
      "id": "3bdc510c"
    },
    {
      "cell_type": "code",
      "metadata": {},
      "source": [
        "weatherfinal = pd.read_csv('/Users/jennyzhong/Documents/GitHub/final-Project-DAP-II/Final project/Weather_Data/weather_with_zip.csv')"
      ],
      "id": "f8dde76d",
      "execution_count": null,
      "outputs": []
    },
    {
      "cell_type": "markdown",
      "metadata": {},
      "source": [
        "Dropping unnecessary columns"
      ],
      "id": "1f126bb7"
    },
    {
      "cell_type": "code",
      "metadata": {},
      "source": [
        "weatherfinal.head(10)\n",
        "weatherfinal = weatherfinal.drop(columns=['TMAX', 'TMIN', 'ELEVATION', 'index_right'])"
      ],
      "id": "31582820",
      "execution_count": null,
      "outputs": []
    },
    {
      "cell_type": "markdown",
      "metadata": {},
      "source": [
        "Saving to a CSV file "
      ],
      "id": "368941d0"
    },
    {
      "cell_type": "code",
      "metadata": {},
      "source": [
        "weatherfinal.to_csv('/Users/jennyzhong/Documents/GitHub/final-Project-DAP-II/Final project/Weather_Data/weather_raw.csv', index=False)"
      ],
      "id": "1d2e3fbe",
      "execution_count": null,
      "outputs": []
    },
    {
      "cell_type": "code",
      "metadata": {},
      "source": [
        "##installing the necessary packages\n",
        "import pandas as pd\n",
        "import matplotlib.pyplot as plt\n",
        "import altair as alt\n",
        "import numpy as np\n",
        "import geopandas as gpd\n",
        "import shapely\n",
        "import shiny\n",
        "#from shapely.geometry import Point\n",
        "#import pgeocode"
      ],
      "id": "fccaa26f",
      "execution_count": null,
      "outputs": []
    },
    {
      "cell_type": "markdown",
      "metadata": {},
      "source": [
        "## Data experiment\n",
        "\n",
        "\n",
        "## Data Visualization\n",
        "#merging the data\n",
        "#For the following data, we decided to filter the information down to \n",
        "#2010-2015 because 30 GB is way too much, the following code is how we \n",
        "#shrunk the data \n"
      ],
      "id": "114a649e"
    },
    {
      "cell_type": "code",
      "metadata": {},
      "source": [
        "##installing the necessary packages\n",
        "import pandas as pd\n",
        "import matplotlib.pyplot as plt\n",
        "import altair as alt\n",
        "import numpy as np\n",
        "import geopandas as gpd\n",
        "import shapely\n",
        "import shiny\n",
        "\n",
        "\n",
        "from shapely.geometry import Point\n",
        "import matplotlib.pyplot as plt\n",
        "\n",
        "#from shapely.geometry import Point\n",
        "#import pgeocode"
      ],
      "id": "8ed3d4c1",
      "execution_count": null,
      "outputs": []
    },
    {
      "cell_type": "markdown",
      "metadata": {},
      "source": [
        "## Data experiment\n",
        "\n",
        "\n",
        "## Data Visualization\n",
        "#merging the data\n",
        "#For the following data, we decided to filter the information down to \n",
        "#2010-2015 because 30 GB is way too much, the following code is how we \n",
        "#shrunk the data \n"
      ],
      "id": "10a0b326"
    },
    {
      "cell_type": "code",
      "metadata": {},
      "source": [
        "#final_crime_data = pd.read_csv(r'C:\\Users\\madig\\Documents\\Github\\Year 2024-2025\\final-Project-DAP-II\\final_crime_data.csv')\n",
        "#final_weather_data = pd.read_csv(r'C:\\Users\\madig\\Documents\\Github\\Year 2024-2025\\final-Project-DAP-II\\final_weather_data.csv')"
      ],
      "id": "8a414345",
      "execution_count": null,
      "outputs": []
    },
    {
      "cell_type": "code",
      "metadata": {},
      "source": [
        "#final_crime_data = pd.read_csv(r'C:\\Users\\madig\\Documents\\Github\\Year 2024-2025\\final-Project-DAP-II\\final_crime_data.csv')\n",
        "#final_crime_data['DATE'] = pd.to_datetime(final_crime_data['YearMonthDay'])\n",
        "#filtered_crime_data = final_crime_data[\n",
        "#    (final_crime_data['DATE'].dt.year >= 2010) & (final_crime_data['DATE'].dt.year <= 2015)\n",
        "#]\n",
        "#filtered_crime_data.to_csv('filtered_crime_data.csv', index=False)"
      ],
      "id": "8e43f327",
      "execution_count": null,
      "outputs": []
    },
    {
      "cell_type": "markdown",
      "metadata": {},
      "source": [
        "So this is the filtered data from 2010-2015\n",
        "\n",
        "Crime data grouping and removing unneccesary columns \n",
        "\n",
        "And making a function to group crime types\n"
      ],
      "id": "8feb2cc7"
    },
    {
      "cell_type": "code",
      "metadata": {},
      "source": [
        "filtered_weather_data = pd.read_csv(r'C:\\Users\\madig\\Documents\\Github\\Year 2024-2025\\final-Project-DAP-II\\Final project\\weatherfinal_cleaned.csv')\n",
        "filtered_crime_data = pd.read_csv(r'C:\\Users\\madig\\Documents\\Github\\Year 2024-2025\\final-Project-DAP-II\\Final project\\filtered_crime_data.csv')"
      ],
      "id": "99f52ffa",
      "execution_count": null,
      "outputs": []
    },
    {
      "cell_type": "code",
      "metadata": {},
      "source": [
        "unique_primary_types = filtered_crime_data['Primary Type'].unique()\n",
        "\n",
        "def categorize_crime(crime_type):\n",
        "    if crime_type in ['BATTERY', 'ASSAULT', 'ROBBERY', 'SEX OFFENSE', \n",
        "                      'CRIM SEXUAL ASSAULT', 'CRIMINAL SEXUAL ASSAULT', \n",
        "                      'HOMICIDE', 'KIDNAPPING', 'STALKING', 'INTIMIDATION']:\n",
        "        return 'Violent Crimes'\n",
        "    elif crime_type in ['MOTOR VEHICLE THEFT', 'THEFT', 'BURGLARY', \n",
        "                        'CRIMINAL DAMAGE', 'ARSON', 'CRIMINAL TRESPASS']:\n",
        "        return 'Property Crimes'\n",
        "    elif crime_type in ['WEAPONS VIOLATION', 'PUBLIC PEACE VIOLATION', \n",
        "                        'LIQUOR LAW VIOLATION', 'OBSCENITY', \n",
        "                        'PUBLIC INDECENCY', 'CONCEALED CARRY LICENSE VIOLATION']:\n",
        "        return 'Public Order and Regulatory Violations'\n",
        "    else:\n",
        "        return 'Other Offenses'\n",
        "\n",
        "filtered_crime_data['Crime Type Group'] = filtered_crime_data['Primary Type'].apply(categorize_crime)\n",
        "\n",
        "columns_to_drop = [\n",
        "    'YearMonthDay', 'Block', 'IUCR', 'Primary Type', 'Description',\n",
        "    'Location Description', 'Arrest', 'Domestic', 'Beat', 'Ward',\n",
        "    'FBI Code', 'X Coordinate', 'Y Coordinate', 'Year', 'Location',\n",
        "    'ID', 'District', 'Community Area', 'index_right', 'INTPTLAT10', \n",
        "    'INTPTLON10'\n",
        "]\n",
        "\n",
        "filtered_crime_data = filtered_crime_data.drop(columns=columns_to_drop)\n",
        "\n",
        "filtered_crime_data = filtered_crime_data.dropna(subset=['ZCTA5CE10'])\n",
        "filtered_crime_data['ZCTA5CE10'] = filtered_crime_data['ZCTA5CE10'].astype(int)\n",
        "\n",
        "filtered_crime_data.rename(columns={'ZCTA5CE10': 'ZIP_CODE'}, inplace=True)\n",
        "\n",
        "print(filtered_crime_data.head())"
      ],
      "id": "1137f6e5",
      "execution_count": null,
      "outputs": []
    },
    {
      "cell_type": "markdown",
      "metadata": {},
      "source": [
        "Merging\n"
      ],
      "id": "12b8e4e5"
    },
    {
      "cell_type": "code",
      "metadata": {},
      "source": [
        "filtered_crime_data['DATE'] = pd.to_datetime(filtered_crime_data['DATE'])\n",
        "filtered_weather_data['DATE'] = pd.to_datetime(filtered_weather_data['DATE'])\n",
        "\n",
        "crime_summary = filtered_crime_data.groupby(['DATE', 'ZIP_CODE', 'Crime Type Group']).size().reset_index(name='Crime Count')\n",
        "\n",
        "\n",
        "merged_data = pd.merge(\n",
        "    crime_summary,\n",
        "    filtered_weather_data[['DATE', 'ZIP_CODE', 'TAVG', 'geometry']],  # Select relevant weather columns\n",
        "    on=['DATE', 'ZIP_CODE'],\n",
        "    how='inner'  # Use 'inner' to match rows in both datasets\n",
        ")\n",
        "\n",
        "print(merged_data.head())\n",
        "\n",
        "merged_data.to_csv(r'C:\\Users\\madig\\Documents\\Github\\Year 2024-2025\\final-Project-DAP-II\\Final project\\merged_data.csv', index=False)"
      ],
      "id": "f9a4db08",
      "execution_count": null,
      "outputs": []
    },
    {
      "cell_type": "markdown",
      "metadata": {},
      "source": [
        "#Now that the data is filtered lets make the two charts\n",
        "\n",
        "\n",
        "#BarChart\n"
      ],
      "id": "e2af1d97"
    },
    {
      "cell_type": "code",
      "metadata": {},
      "source": [
        "import pandas as pd\n",
        "import matplotlib.pyplot as plt\n",
        "\n",
        "filtered_weather_data['TAVG_bin'] = pd.cut(\n",
        "    filtered_weather_data['TAVG'], \n",
        "    bins=range(int(filtered_weather_data['TAVG'].min()) // 15 * 15, \n",
        "               int(filtered_weather_data['TAVG'].max()) // 15 * 15 + 15, \n",
        "               15), \n",
        "    right=False\n",
        ")\n",
        "\n",
        "merged_data_with_bins = pd.merge(\n",
        "    merged_data,\n",
        "    filtered_weather_data[['DATE', 'TAVG_bin']], \n",
        "    on='DATE',\n",
        "    how='left'\n",
        ")\n",
        "\n",
        "crime_distribution = merged_data_with_bins.groupby(['TAVG_bin', 'Crime Type Group'])['Crime Count'].sum().unstack(fill_value=0)\n",
        "\n",
        "crime_distribution.plot(kind='bar', stacked=True, figsize=(12, 7), width=0.9)\n",
        "plt.title('Crime Distribution by Temperature Range (Binned by 15)')\n",
        "plt.xlabel('Temperature Range (°F)')\n",
        "plt.ylabel('Total Crime Count')\n",
        "plt.xticks(rotation=45, ha='right')  \n",
        "plt.legend(title='Crime Type Group')\n",
        "plt.grid(axis='y', linestyle='--', alpha=0.7)\n",
        "plt.tight_layout()\n",
        "plt.show()"
      ],
      "id": "be7bbaa1",
      "execution_count": null,
      "outputs": []
    },
    {
      "cell_type": "markdown",
      "metadata": {},
      "source": [
        "Geopandas Timeseries\n"
      ],
      "id": "4cbe0037"
    },
    {
      "cell_type": "code",
      "metadata": {},
      "source": [
        "import geopandas as gpd\n",
        "import matplotlib.pyplot as plt\n",
        "import pandas as pd\n",
        "\n",
        "merged_data = gpd.GeoDataFrame(merged_data)\n",
        "\n",
        "merged_data[\"DATE\"] = pd.to_datetime(merged_data[\"DATE\"])\n",
        "\n",
        "time_series_data = merged_data.groupby([\"DATE\", \"Crime Type Group\"])[\"Crime Count\"].sum().unstack()\n",
        "\n",
        "plt.figure(figsize=(12, 6))\n",
        "time_series_data.plot(ax=plt.gca(), marker='o')\n",
        "plt.title(\"Time Series of Crime Counts by Type\", fontsize=14)\n",
        "plt.xlabel(\"Date\", fontsize=12)\n",
        "plt.ylabel(\"Crime Count\", fontsize=12)\n",
        "plt.legend(title=\"Crime Type Group\")\n",
        "plt.grid(True)\n",
        "plt.tight_layout()\n",
        "plt.show()"
      ],
      "id": "31bbbfaf",
      "execution_count": null,
      "outputs": []
    },
    {
      "cell_type": "markdown",
      "metadata": {},
      "source": [
        "Cloropleth Map"
      ],
      "id": "75fce714"
    },
    {
      "cell_type": "code",
      "metadata": {},
      "source": [
        "from shapely.wkt import loads\n",
        "\n",
        "merged_data['geometry'] = merged_data['geometry'].apply(loads)"
      ],
      "id": "5bc84b68",
      "execution_count": null,
      "outputs": []
    },
    {
      "cell_type": "code",
      "metadata": {},
      "source": [
        "import matplotlib.pyplot as plt\n",
        "import contextily as ctx\n",
        "\n",
        "merged_data = merged_data.set_geometry(\"geometry\")\n",
        "\n",
        "if merged_data.crs is None:\n",
        "    merged_data = merged_data.set_crs(epsg=4326)\n",
        "merged_data = merged_data.to_crs(epsg=3857)\n",
        "\n",
        "fig, ax = plt.subplots(figsize=(12, 8))\n",
        "\n",
        "merged_data.plot(\n",
        "    column=\"TAVG\",\n",
        "    cmap=\"coolwarm\",\n",
        "    legend=True,\n",
        "    alpha=0.6,\n",
        "    edgecolor=\"black\",\n",
        "    ax=ax,\n",
        ")\n",
        "\n",
        "\n",
        "merged_data.plot(\n",
        "    ax=ax,\n",
        "    color=\"red\",\n",
        "    markersize=merged_data[\"Crime Count\"] * 2,\n",
        "    alpha=0.7,\n",
        "    label=\"Crime Locations\",\n",
        ")\n",
        "\n",
        "\n",
        "ctx.add_basemap(ax, source=ctx.providers.CartoDB.Positron)\n",
        "\n",
        "plt.title(\"Choropleth Map of Temp with Crime Locations\", fontsize=14)\n",
        "plt.legend()\n",
        "plt.tight_layout()\n",
        "plt.show()"
      ],
      "id": "63ed5a46",
      "execution_count": null,
      "outputs": []
    },
    {
      "cell_type": "markdown",
      "metadata": {},
      "source": [
        "We explain the following graphs here: \n",
        "\n",
        "![Graph 1 Description](Graphs/graph1.jpeg)\n",
        "\n",
        "\n",
        "![Graph 2 Description](Graphs/Graph2.jpeg)\n",
        "\n",
        "\n",
        "![Graph 3 Description](Graphs/Graph3.jpeg)\n",
        "\n",
        "\n",
        "## Shiny App\n",
        "\n",
        "![the intensity of crime per zipcode in chicago when temperature is 33](low_temp.png)\n",
        "\n",
        "![the intensity of crime per zipcode in chicago when temperature is 69](High_temp.png)\n",
        "\n",
        "![the intensity of crime per zipcode in chicago when temperature is 89](extra_high.png)\n",
        "\n",
        "as we can see there are certain zipcodes that have a high crime rate regardless but in general as temperature increases the number of zipcodes/neighborhoods that have more crimes also spikes. (meaning the total average of crime rate increases in general)\n",
        "\n",
        "\n",
        "\n",
        "\n",
        "## Policy Implications \n",
        "\n",
        "Our findings demonstrate a positive correlation between temperature and violent crime rates, aligning with prior research on the relationship between environmental factors and criminal activity. This connection underscores the importance of understanding how temperature fluctuations influence public behavior and safety.\n",
        "From a public safety perspective, this insight allows police departments to better anticipate “busy seasons” for violent crimes, particularly during warmer months. With this knowledge, law enforcement agencies can optimize resource allocation, ensuring adequate staffing and preparation to handle increased workloads effectively.\n",
        "Additionally, the implications extend to the broader context of climate change. As global temperatures continue to rise, it becomes increasingly critical to assess and address the potential impacts on public safety. Policymakers can use this information to formulate strategies that mitigate the risks associated with climate-induced changes in crime patterns, contributing to more resilient urban environments.\n",
        "\n",
        "## Directions for Future Work\n",
        "\n",
        "To broaden the scope and applicability of our findings, future research should expand the analysis to other American cities. This would help determine whether the patterns observed in Chicago are consistent across different urban contexts, offering a more comprehensive understanding of how temperature impacts crime in diverse environments.\n",
        "A global analysis could further enhance the study by assessing whether the relationship between temperature and crime is universal or shaped by cultural and geographic factors. Examining this phenomenon in international settings would provide valuable insights into the broader applicability of our findings and reveal potential variations influenced by societal norms and regional climates.\n",
        "Additionally, incorporating other variables such as humidity, unemployment rates, and urban density could create a more robust and nuanced model. These factors may interact with temperature in complex ways, offering a deeper understanding of the environmental and socio-economic drivers of crime. By expanding this research, we can gain a more thorough understanding of the intersection between climate, public safety, and social behavior, ultimately contributing to more informed policy and crime prevention strategies."
      ],
      "id": "936db815"
    }
  ],
  "metadata": {
    "kernelspec": {
      "name": "python3",
      "language": "python",
      "display_name": "Python 3 (ipykernel)",
      "path": "/Users/samarnegahdar/Desktop/Final_project/final-Project-DAP-II/Svenv/share/jupyter/kernels/python3"
    }
  },
  "nbformat": 4,
  "nbformat_minor": 5
}